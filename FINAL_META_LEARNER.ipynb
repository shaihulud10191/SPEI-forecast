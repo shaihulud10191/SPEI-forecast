{
  "nbformat": 4,
  "nbformat_minor": 0,
  "metadata": {
    "colab": {
      "provenance": []
    },
    "kernelspec": {
      "name": "python3",
      "display_name": "Python 3"
    },
    "language_info": {
      "name": "python"
    }
  },
  "cells": [
    {
      "cell_type": "code",
      "source": [
        "from google.colab import drive\n",
        "import pandas as pd\n",
        "import numpy as np\n",
        "from sklearn.preprocessing import MinMaxScaler\n",
        "from sklearn.model_selection import TimeSeriesSplit, train_test_split\n",
        "from sklearn.linear_model import Ridge\n",
        "from sklearn.svm import SVR\n",
        "from sklearn.ensemble import RandomForestRegressor\n",
        "from sklearn.metrics import mean_squared_error, mean_absolute_error, r2_score\n",
        "import matplotlib.pyplot as plt\n",
        "from tensorflow import keras\n",
        "import statsmodels.api as sm\n",
        "from math import sqrt\n",
        "drive.mount('/content/drive')\n",
        "df = pd.read_csv(r'/content/drive/MyDrive/Internship/latur_final.csv')"
      ],
      "metadata": {
        "colab": {
          "base_uri": "https://localhost:8080/"
        },
        "id": "VVFdUmE7MKZi",
        "outputId": "7f66e3f0-d240-4604-bf1d-a033d5ed98a7"
      },
      "execution_count": null,
      "outputs": [
        {
          "output_type": "stream",
          "name": "stdout",
          "text": [
            "Drive already mounted at /content/drive; to attempt to forcibly remount, call drive.mount(\"/content/drive\", force_remount=True).\n"
          ]
        }
      ]
    },
    {
      "cell_type": "code",
      "source": [
        "def train_model(model, X_train, y_train):\n",
        "    return model.fit(X_train.reshape(X_train.shape[0], X_train.shape[1]), y_train)\n",
        "\n",
        "def predict(model, X_test):\n",
        "    return model.predict(X_test.reshape(X_test.shape[0], X_test.shape[1]))\n",
        "\n",
        "def train_arima(y_train):\n",
        "    arima = sm.tsa.statespace.SARIMAX(y_train, order=(1, 1, 1), seasonal_order=(1, 1, 0, 12))\n",
        "    return arima.fit(disp=0)\n",
        "\n",
        "def train_lstm(X_train, y_train, input_shape):\n",
        "    model = keras.Sequential([\n",
        "        keras.layers.LSTM(50, activation='relu', input_shape=input_shape),\n",
        "        keras.layers.Dense(1)\n",
        "    ])\n",
        "    model.compile(optimizer='adam', loss='mse')\n",
        "    model.fit(X_train, y_train, epochs=23, batch_size=16, verbose=0)\n",
        "    return model\n",
        "\n",
        "def evaluate_metrics(y_test, y_pred):\n",
        "    return {\n",
        "        'mse': mean_squared_error(y_test, y_pred),\n",
        "        'mae': mean_absolute_error(y_test, y_pred),\n",
        "        'rmse': sqrt(mean_squared_error(y_test, y_pred)),\n",
        "        'r2': r2_score(y_test, y_pred)\n",
        "    }\n",
        "\n",
        "def plot_metrics(r2_score_value, residuals):\n",
        "    plt.figure(figsize=(18, 6))\n",
        "    plt.subplot(1, 3, 1)\n",
        "    plt.bar(['R^2'], [r2_score_value])\n",
        "    plt.subplot(1, 3, 2)\n",
        "    plt.scatter(final_prediction, residuals)\n",
        "    plt.subplot(1, 3, 3)\n",
        "    plt.hist(residuals, bins=20)\n",
        "    plt.tight_layout()\n",
        "    plt.show()"
      ],
      "metadata": {
        "id": "3Bi9pGiSMNr5"
      },
      "execution_count": null,
      "outputs": []
    },
    {
      "cell_type": "code",
      "source": [
        "# Data pre-processing\n",
        "X, y = df[['Rain', 'feed_temp']], df['SPEI']\n",
        "scaler = MinMaxScaler()\n",
        "X_scaled = scaler.fit_transform(X).reshape(X.shape[0], X.shape[1], 1)\n",
        "\n",
        "# Train/test split\n",
        "X_train, X_test, y_train, y_test = train_test_split(X_scaled, y, test_size=0.2, random_state=42)\n",
        "\n",
        "# Model initialization\n",
        "ridge, svr, meta_learner = Ridge(), SVR(), RandomForestRegressor()\n",
        "input_shape = (X_scaled.shape[1], 1)"
      ],
      "metadata": {
        "id": "wv4nTMDjMSkS"
      },
      "execution_count": null,
      "outputs": []
    },
    {
      "cell_type": "code",
      "execution_count": null,
      "metadata": {
        "colab": {
          "base_uri": "https://localhost:8080/"
        },
        "id": "8OsjEnHoKeg3",
        "outputId": "25fdef84-b253-4279-ced6-44cf01bc81bf"
      },
      "outputs": [
        {
          "output_type": "stream",
          "name": "stderr",
          "text": [
            "/usr/local/lib/python3.10/dist-packages/statsmodels/tsa/base/tsa_model.py:473: ValueWarning: An unsupported index was provided and will be ignored when e.g. forecasting.\n",
            "  self._init_dates(dates, freq)\n",
            "/usr/local/lib/python3.10/dist-packages/statsmodels/tsa/base/tsa_model.py:473: ValueWarning: An unsupported index was provided and will be ignored when e.g. forecasting.\n",
            "  self._init_dates(dates, freq)\n"
          ]
        },
        {
          "output_type": "stream",
          "name": "stdout",
          "text": [
            "Test Metrics: {'mse': 0.0032536832983694687, 'mae': 0.02125164321214467, 'rmse': 0.05704106677096308, 'r2': 0.9956735653724093}\n"
          ]
        }
      ],
      "source": [
        "# Full Model training\n",
        "trained_ridge = train_model(ridge, X_train, y_train)\n",
        "trained_svr = train_model(svr, X_train, y_train)\n",
        "trained_arima = train_arima(y_train)\n",
        "trained_lstm = train_lstm(X_train, y_train, input_shape)\n",
        "\n",
        "# Meta-features generation\n",
        "meta_features_test = np.column_stack([predict(model, X_test) for model in [trained_ridge, trained_svr]])\n",
        "\n",
        "# Meta-learner training\n",
        "meta_learner.fit(meta_features_test, y_test)\n",
        "final_prediction = meta_learner.predict(meta_features_test)\n",
        "\n",
        "# Evaluation\n",
        "metrics = evaluate_metrics(y_test, final_prediction)\n",
        "print(f\"Test Metrics: {metrics}\")"
      ]
    },
    {
      "cell_type": "code",
      "source": [
        "# Cross-validation setup\n",
        "tscv = TimeSeriesSplit(n_splits=5)\n",
        "mse_list, mae_list, rmse_list, r2_list = [], [], [], []\n",
        "\n",
        "# Time series cross-validation\n",
        "for train_index, val_index in tscv.split(X_scaled):\n",
        "    X_train_fold, X_val_fold = X_scaled[train_index], X_scaled[val_index]\n",
        "    y_train_fold, y_val_fold = y.iloc[train_index], y.iloc[val_index]\n",
        "\n",
        "    # Train individual models\n",
        "    trained_ridge = train_model(ridge, X_train_fold, y_train_fold)\n",
        "    trained_svr = train_model(svr, X_train_fold, y_train_fold)\n",
        "    trained_arima = train_arima(y_train_fold)\n",
        "    trained_lstm = train_lstm(X_train_fold, y_train_fold, input_shape)\n",
        "\n",
        "    # Generate meta-features for validation set\n",
        "    meta_features_val = np.column_stack([\n",
        "        predict(model, X_val_fold) for model in [trained_ridge, trained_svr]\n",
        "    ])\n",
        "    y_pred_val_arima = trained_arima.predict(start=len(y_train_fold), end=len(y_train_fold) + len(y_val_fold) - 1, dynamic=False)\n",
        "    y_pred_val_lstm = trained_lstm.predict(X_val_fold).flatten()\n",
        "\n",
        "    meta_features_val = np.column_stack((meta_features_val, y_pred_val_arima, y_pred_val_lstm))\n",
        "\n",
        "    # Train meta-learner on validation set\n",
        "    meta_learner.fit(meta_features_val, y_val_fold)\n",
        "\n",
        "    # Generate final ensemble predictions on validation set\n",
        "    final_prediction = meta_learner.predict(meta_features_val)\n",
        "\n",
        "    # Evaluation\n",
        "    metrics = evaluate_metrics(y_val_fold, final_prediction)\n",
        "\n",
        "    # Append to lists\n",
        "    mse_list.append(metrics['mse'])\n",
        "    mae_list.append(metrics['mae'])\n",
        "    rmse_list.append(metrics['rmse'])\n",
        "    r2_list.append(metrics['r2'])\n",
        "\n",
        "# Calculate and print average metrics\n",
        "print('Time series cross val based metrics: ')\n",
        "average_metrics = {\n",
        "    'Average MSE': np.mean(mse_list),\n",
        "    'Average MAE': np.mean(mae_list),\n",
        "    'Average RMSE': np.mean(rmse_list),\n",
        "    'Average R-squared': np.mean(r2_list)\n",
        "}\n",
        "print(f\"Average Metrics: {average_metrics}\")"
      ],
      "metadata": {
        "colab": {
          "base_uri": "https://localhost:8080/"
        },
        "id": "1PqUgVRuNCQ2",
        "outputId": "63c76a0b-8aa0-4693-c364-85d615ff9254"
      },
      "execution_count": null,
      "outputs": [
        {
          "output_type": "stream",
          "name": "stdout",
          "text": [
            "3/3 [==============================] - 0s 5ms/step\n",
            "3/3 [==============================] - 0s 5ms/step\n",
            "3/3 [==============================] - 0s 4ms/step\n",
            "3/3 [==============================] - 0s 5ms/step\n",
            "3/3 [==============================] - 0s 5ms/step\n",
            "Time series cross val based metrics: \n",
            "Average Metrics: {'Average MSE': 0.0021624933290446055, 'Average MAE': 0.02364215215745927, 'Average RMSE': 0.044935739733032935, 'Average R-squared': 0.9978800675682479}\n"
          ]
        }
      ]
    },
    {
      "cell_type": "code",
      "source": [
        "# Visualization\n",
        "residuals = y_val_fold - final_prediction\n",
        "r2_score_value = r2_score(y_val_fold, final_prediction)\n",
        "plot_metrics(r2_score_value, residuals)"
      ],
      "metadata": {
        "colab": {
          "base_uri": "https://localhost:8080/",
          "height": 425
        },
        "id": "d5l4niNqMjtn",
        "outputId": "8f878568-4c0d-4609-a773-b58b1f757275"
      },
      "execution_count": null,
      "outputs": [
        {
          "output_type": "display_data",
          "data": {
            "text/plain": [
              "<Figure size 1800x600 with 3 Axes>"
            ],
            "image/png": "[encoded data removed]"
          },
          "metadata": {}
        }
      ]
    }
  ]
}